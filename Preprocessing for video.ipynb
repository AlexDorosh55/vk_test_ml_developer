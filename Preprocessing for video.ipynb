{
 "cells": [
  {
   "cell_type": "code",
   "execution_count": 2,
   "id": "1c0cf83c",
   "metadata": {},
   "outputs": [],
   "source": [
    "import os\n",
    "import zipfile\n",
    "import shutil\n",
    "import json\n",
    "import time\n",
    "import gc\n",
    "from moviepy.editor import VideoFileClip\n",
    "from tqdm import tqdm\n",
    "import platform "
   ]
  },
  {
   "cell_type": "code",
   "execution_count": 6,
   "id": "ed8d25e4",
   "metadata": {},
   "outputs": [
    {
     "name": "stdout",
     "output_type": "stream",
     "text": [
      "Temporary folder exists: D:\\temp_extracted_videos. Cleaning up...\n",
      "Created temporary extraction folder: D:\\temp_extracted_videos\n",
      "Unpacking C:\\Users\\Admin\\Downloads\\data_train_short.zip...\n",
      "Unpacking complete.\n",
      "Starting video trimming and label processing...\n",
      "Labels file 'labels.json' copied to D:\\trimmed_videos_with_labels\n"
     ]
    },
    {
     "name": "stderr",
     "output_type": "stream",
     "text": [
      "Processing videos:   0%|                                                                        | 0/75 [00:00<?, ?it/s]"
     ]
    },
    {
     "name": "stdout",
     "output_type": "stream",
     "text": [
      "\n",
      "!!! Ошибка при обработке видео -220020068_456241755.mp4: [Errno 32] Broken pipe\n",
      "\n",
      "MoviePy error: FFMPEG encountered the following error while writing file D:\\trimmed_videos_with_labels\\processed_-220020068_456241755.mp4:\n",
      "\n",
      " \n",
      "\n"
     ]
    },
    {
     "name": "stderr",
     "output_type": "stream",
     "text": [
      "Processing videos:   1%|▊                                                          | 1/75 [34:37<42:41:40, 2077.04s/it]"
     ]
    },
    {
     "name": "stdout",
     "output_type": "stream",
     "text": [
      "  Удален неполный выходной файл: D:\\trimmed_videos_with_labels\\processed_-220020068_456241755.mp4\n"
     ]
    },
    {
     "name": "stderr",
     "output_type": "stream",
     "text": [
      "Processing videos:   3%|█▌                                                          | 2/75 [36:58<19:01:29, 938.22s/it]"
     ]
    },
    {
     "name": "stdout",
     "output_type": "stream",
     "text": [
      "  Обрезано и сохранено: processed_-220020068_456241756.mp4\n",
      "\n",
      "!!! Ошибка при обработке видео -220020068_456241758.mp4: [Errno 32] Broken pipe\n",
      "\n",
      "MoviePy error: FFMPEG encountered the following error while writing file D:\\trimmed_videos_with_labels\\processed_-220020068_456241758.mp4:\n",
      "\n",
      " \n",
      "\n",
      "  Удален неполный выходной файл: D:\\trimmed_videos_with_labels\\processed_-220020068_456241758.mp4\n"
     ]
    },
    {
     "name": "stderr",
     "output_type": "stream",
     "text": [
      "Processing videos:   5%|███▏                                                        | 4/75 [52:12<11:43:02, 594.12s/it]"
     ]
    },
    {
     "name": "stdout",
     "output_type": "stream",
     "text": [
      "\n",
      "!!! Ошибка при обработке видео -220020068_456241844.mp4: [Errno 28] No space left on device\n",
      "\n",
      "MoviePy error: FFMPEG encountered the following error while writing file D:\\trimmed_videos_with_labels\\processed_-220020068_456241844.mp4:\n",
      "\n",
      " \n",
      "\n",
      "  Удален неполный выходной файл: D:\\trimmed_videos_with_labels\\processed_-220020068_456241844.mp4\n"
     ]
    },
    {
     "name": "stderr",
     "output_type": "stream",
     "text": [
      "Processing videos:   7%|████                                                         | 5/75 [56:16<9:06:04, 468.06s/it]"
     ]
    },
    {
     "name": "stdout",
     "output_type": "stream",
     "text": [
      "\n",
      "!!! Ошибка при обработке видео -220020068_456241845.mp4: [Errno 32] Broken pipe\n",
      "\n",
      "MoviePy error: FFMPEG encountered the following error while writing file D:\\trimmed_videos_with_labels\\processed_-220020068_456241845.mp4:\n",
      "\n",
      " \n",
      "\n",
      "  Удален неполный выходной файл: D:\\trimmed_videos_with_labels\\processed_-220020068_456241845.mp4\n"
     ]
    },
    {
     "name": "stderr",
     "output_type": "stream",
     "text": [
      "Processing videos:   8%|████▋                                                      | 6/75 [1:03:06<8:35:24, 448.18s/it]"
     ]
    },
    {
     "name": "stdout",
     "output_type": "stream",
     "text": [
      "\n",
      "!!! Ошибка при обработке видео -220020068_456241846.mp4: [Errno 32] Broken pipe\n",
      "\n",
      "MoviePy error: FFMPEG encountered the following error while writing file D:\\trimmed_videos_with_labels\\processed_-220020068_456241846.mp4:\n",
      "\n",
      " \n",
      "\n",
      "  Удален неполный выходной файл: D:\\trimmed_videos_with_labels\\processed_-220020068_456241846.mp4\n"
     ]
    },
    {
     "name": "stderr",
     "output_type": "stream",
     "text": [
      "Processing videos:   9%|█████▌                                                     | 7/75 [1:09:02<7:53:39, 417.93s/it]"
     ]
    },
    {
     "name": "stdout",
     "output_type": "stream",
     "text": [
      "\n",
      "!!! Ошибка при обработке видео -220020068_456241847.mp4: [Errno 32] Broken pipe\n",
      "\n",
      "MoviePy error: FFMPEG encountered the following error while writing file D:\\trimmed_videos_with_labels\\processed_-220020068_456241847.mp4:\n",
      "\n",
      " \n",
      "\n",
      "  Удален неполный выходной файл: D:\\trimmed_videos_with_labels\\processed_-220020068_456241847.mp4\n"
     ]
    },
    {
     "name": "stderr",
     "output_type": "stream",
     "text": [
      "Processing videos:  11%|██████▎                                                    | 8/75 [1:11:19<6:07:02, 328.70s/it]"
     ]
    },
    {
     "name": "stdout",
     "output_type": "stream",
     "text": [
      "  Обрезано и сохранено: processed_-220020068_456241849.mp4\n"
     ]
    },
    {
     "name": "stderr",
     "output_type": "stream",
     "text": [
      "Processing videos:  12%|███████                                                    | 9/75 [1:15:01<5:24:45, 295.24s/it]"
     ]
    },
    {
     "name": "stdout",
     "output_type": "stream",
     "text": [
      "\n",
      "!!! Ошибка при обработке видео -220020068_456241850.mp4: [Errno 32] Broken pipe\n",
      "\n",
      "MoviePy error: FFMPEG encountered the following error while writing file D:\\trimmed_videos_with_labels\\processed_-220020068_456241850.mp4:\n",
      "\n",
      " \n",
      "\n",
      "  Удален неполный выходной файл: D:\\trimmed_videos_with_labels\\processed_-220020068_456241850.mp4\n"
     ]
    },
    {
     "name": "stderr",
     "output_type": "stream",
     "text": [
      "Processing videos:  13%|███████▋                                                  | 10/75 [1:17:18<4:26:59, 246.45s/it]"
     ]
    },
    {
     "name": "stdout",
     "output_type": "stream",
     "text": [
      "  Обрезано и сохранено: processed_-220020068_456241851.mp4\n"
     ]
    },
    {
     "name": "stderr",
     "output_type": "stream",
     "text": [
      "Processing videos:  15%|████████▌                                                 | 11/75 [1:17:54<3:14:08, 182.00s/it]"
     ]
    },
    {
     "name": "stdout",
     "output_type": "stream",
     "text": [
      "  Обрезано и сохранено: processed_-220020068_456248657.mp4\n"
     ]
    },
    {
     "name": "stderr",
     "output_type": "stream",
     "text": [
      "Processing videos:  16%|█████████▎                                                | 12/75 [1:19:15<2:38:50, 151.28s/it]"
     ]
    },
    {
     "name": "stdout",
     "output_type": "stream",
     "text": [
      "  Обрезано и сохранено: processed_-220020068_456249667.mp4\n"
     ]
    },
    {
     "name": "stderr",
     "output_type": "stream",
     "text": [
      "Processing videos:  17%|██████████                                                | 13/75 [1:20:40<2:15:40, 131.30s/it]"
     ]
    },
    {
     "name": "stdout",
     "output_type": "stream",
     "text": [
      "  Обрезано и сохранено: processed_-220020068_456249692.mp4\n"
     ]
    },
    {
     "name": "stderr",
     "output_type": "stream",
     "text": [
      "Processing videos:  19%|██████████▊                                               | 14/75 [1:22:04<1:58:57, 117.01s/it]"
     ]
    },
    {
     "name": "stdout",
     "output_type": "stream",
     "text": [
      "  Обрезано и сохранено: processed_-220020068_456249693.mp4\n"
     ]
    },
    {
     "name": "stderr",
     "output_type": "stream",
     "text": [
      "Processing videos:  20%|███████████▌                                              | 15/75 [1:23:32<1:48:09, 108.16s/it]"
     ]
    },
    {
     "name": "stdout",
     "output_type": "stream",
     "text": [
      "  Обрезано и сохранено: processed_-220020068_456249716.mp4\n"
     ]
    },
    {
     "name": "stderr",
     "output_type": "stream",
     "text": [
      "Processing videos:  21%|████████████▎                                             | 16/75 [1:25:00<1:40:33, 102.27s/it]"
     ]
    },
    {
     "name": "stdout",
     "output_type": "stream",
     "text": [
      "  Обрезано и сохранено: processed_-220020068_456249719.mp4\n"
     ]
    },
    {
     "name": "stderr",
     "output_type": "stream",
     "text": [
      "Processing videos:  23%|█████████████▎                                             | 17/75 [1:26:29<1:34:53, 98.17s/it]"
     ]
    },
    {
     "name": "stdout",
     "output_type": "stream",
     "text": [
      "  Обрезано и сохранено: processed_-220020068_456249720.mp4\n"
     ]
    },
    {
     "name": "stderr",
     "output_type": "stream",
     "text": [
      "Processing videos:  24%|██████████████▏                                            | 18/75 [1:27:54<1:29:29, 94.20s/it]"
     ]
    },
    {
     "name": "stdout",
     "output_type": "stream",
     "text": [
      "  Обрезано и сохранено: processed_-220020068_456249732.mp4\n"
     ]
    },
    {
     "name": "stderr",
     "output_type": "stream",
     "text": [
      "Processing videos:  25%|██████████████▉                                            | 19/75 [1:29:23<1:26:18, 92.47s/it]"
     ]
    },
    {
     "name": "stdout",
     "output_type": "stream",
     "text": [
      "  Обрезано и сохранено: processed_-220020068_456249733.mp4\n"
     ]
    },
    {
     "name": "stderr",
     "output_type": "stream",
     "text": [
      "Processing videos:  27%|███████████████▍                                          | 20/75 [1:31:54<1:41:03, 110.24s/it]"
     ]
    },
    {
     "name": "stdout",
     "output_type": "stream",
     "text": [
      "  Обрезано и сохранено: processed_-220020068_456249739.mp4\n"
     ]
    },
    {
     "name": "stderr",
     "output_type": "stream",
     "text": [
      "Processing videos:  28%|████████████████▌                                          | 21/75 [1:32:36<1:20:51, 89.84s/it]"
     ]
    },
    {
     "name": "stdout",
     "output_type": "stream",
     "text": [
      "  Обрезано и сохранено: processed_-220020068_456252055.mp4\n"
     ]
    },
    {
     "name": "stderr",
     "output_type": "stream",
     "text": [
      "Processing videos:  29%|█████████████████▎                                         | 22/75 [1:34:02<1:18:19, 88.66s/it]"
     ]
    },
    {
     "name": "stdout",
     "output_type": "stream",
     "text": [
      "  Обрезано и сохранено: processed_-220020068_456253855.mp4\n"
     ]
    },
    {
     "name": "stderr",
     "output_type": "stream",
     "text": [
      "Processing videos:  31%|██████████████████                                         | 23/75 [1:35:31<1:16:45, 88.57s/it]"
     ]
    },
    {
     "name": "stdout",
     "output_type": "stream",
     "text": [
      "  Обрезано и сохранено: processed_-220020068_456253876.mp4\n"
     ]
    },
    {
     "name": "stderr",
     "output_type": "stream",
     "text": [
      "Processing videos:  32%|██████████████████▉                                        | 24/75 [1:37:00<1:15:27, 88.77s/it]"
     ]
    },
    {
     "name": "stdout",
     "output_type": "stream",
     "text": [
      "  Обрезано и сохранено: processed_-220020068_456254282.mp4\n"
     ]
    },
    {
     "name": "stderr",
     "output_type": "stream",
     "text": [
      "Processing videos:  33%|███████████████████▋                                       | 25/75 [1:38:27<1:13:31, 88.23s/it]"
     ]
    },
    {
     "name": "stdout",
     "output_type": "stream",
     "text": [
      "  Обрезано и сохранено: processed_-220020068_456254537.mp4\n"
     ]
    },
    {
     "name": "stderr",
     "output_type": "stream",
     "text": [
      "Processing videos:  35%|████████████████████                                      | 26/75 [1:40:52<1:26:02, 105.35s/it]"
     ]
    },
    {
     "name": "stdout",
     "output_type": "stream",
     "text": [
      "  Обрезано и сохранено: processed_-220020068_456254614.mp4\n"
     ]
    },
    {
     "name": "stderr",
     "output_type": "stream",
     "text": [
      "Processing videos:  36%|████████████████████▉                                     | 27/75 [1:43:16<1:33:29, 116.86s/it]"
     ]
    },
    {
     "name": "stdout",
     "output_type": "stream",
     "text": [
      "  Обрезано и сохранено: processed_-220020068_456254621.mp4\n"
     ]
    },
    {
     "name": "stderr",
     "output_type": "stream",
     "text": [
      "Processing videos:  37%|█████████████████████▋                                    | 28/75 [1:44:39<1:23:37, 106.75s/it]"
     ]
    },
    {
     "name": "stdout",
     "output_type": "stream",
     "text": [
      "  Обрезано и сохранено: processed_-220020068_456255332.mp4\n"
     ]
    },
    {
     "name": "stderr",
     "output_type": "stream",
     "text": [
      "Processing videos:  39%|██████████████████████▍                                   | 29/75 [1:46:04<1:16:44, 100.10s/it]"
     ]
    },
    {
     "name": "stdout",
     "output_type": "stream",
     "text": [
      "  Обрезано и сохранено: processed_-220020068_456255338.mp4\n"
     ]
    },
    {
     "name": "stderr",
     "output_type": "stream",
     "text": [
      "Processing videos:  40%|███████████████████████▌                                   | 30/75 [1:47:28<1:11:26, 95.26s/it]"
     ]
    },
    {
     "name": "stdout",
     "output_type": "stream",
     "text": [
      "  Обрезано и сохранено: processed_-220020068_456255339.mp4\n"
     ]
    },
    {
     "name": "stderr",
     "output_type": "stream",
     "text": [
      "Processing videos:  41%|████████████████████████▍                                  | 31/75 [1:48:51<1:07:13, 91.67s/it]"
     ]
    },
    {
     "name": "stdout",
     "output_type": "stream",
     "text": [
      "  Обрезано и сохранено: processed_-220020068_456255340.mp4\n"
     ]
    },
    {
     "name": "stderr",
     "output_type": "stream",
     "text": [
      "Processing videos:  43%|█████████████████████████▏                                 | 32/75 [1:50:16<1:04:22, 89.83s/it]"
     ]
    },
    {
     "name": "stdout",
     "output_type": "stream",
     "text": [
      "  Обрезано и сохранено: processed_-220020068_456255341.mp4\n"
     ]
    },
    {
     "name": "stderr",
     "output_type": "stream",
     "text": [
      "Processing videos:  44%|█████████████████████████▉                                 | 33/75 [1:51:38<1:01:14, 87.49s/it]"
     ]
    },
    {
     "name": "stdout",
     "output_type": "stream",
     "text": [
      "  Обрезано и сохранено: processed_-220020068_456255344.mp4\n"
     ]
    },
    {
     "name": "stderr",
     "output_type": "stream",
     "text": [
      "Processing videos:  45%|███████████████████████████▋                                 | 34/75 [1:53:02<58:59, 86.32s/it]"
     ]
    },
    {
     "name": "stdout",
     "output_type": "stream",
     "text": [
      "  Обрезано и сохранено: processed_-220020068_456255346.mp4\n"
     ]
    },
    {
     "name": "stderr",
     "output_type": "stream",
     "text": [
      "Processing videos:  47%|████████████████████████████▍                                | 35/75 [1:54:23<56:24, 84.61s/it]"
     ]
    },
    {
     "name": "stdout",
     "output_type": "stream",
     "text": [
      "  Обрезано и сохранено: processed_-220020068_456255349.mp4\n"
     ]
    },
    {
     "name": "stderr",
     "output_type": "stream",
     "text": [
      "Processing videos:  48%|█████████████████████████████▎                               | 36/75 [1:55:46<54:39, 84.10s/it]"
     ]
    },
    {
     "name": "stdout",
     "output_type": "stream",
     "text": [
      "  Обрезано и сохранено: processed_-220020068_456255389.mp4\n"
     ]
    },
    {
     "name": "stderr",
     "output_type": "stream",
     "text": [
      "Processing videos:  49%|██████████████████████████████                               | 37/75 [1:57:11<53:29, 84.45s/it]"
     ]
    },
    {
     "name": "stdout",
     "output_type": "stream",
     "text": [
      "  Обрезано и сохранено: processed_-220020068_456255391.mp4\n"
     ]
    },
    {
     "name": "stderr",
     "output_type": "stream",
     "text": [
      "Processing videos:  51%|██████████████████████████████▉                              | 38/75 [1:58:35<52:01, 84.38s/it]"
     ]
    },
    {
     "name": "stdout",
     "output_type": "stream",
     "text": [
      "  Обрезано и сохранено: processed_-220020068_456255392.mp4\n"
     ]
    },
    {
     "name": "stderr",
     "output_type": "stream",
     "text": [
      "Processing videos:  52%|███████████████████████████████▋                             | 39/75 [2:00:02<51:00, 85.03s/it]"
     ]
    },
    {
     "name": "stdout",
     "output_type": "stream",
     "text": [
      "  Обрезано и сохранено: processed_-220020068_456255393.mp4\n"
     ]
    },
    {
     "name": "stderr",
     "output_type": "stream",
     "text": [
      "Processing videos:  53%|████████████████████████████████▌                            | 40/75 [2:01:28<49:50, 85.45s/it]"
     ]
    },
    {
     "name": "stdout",
     "output_type": "stream",
     "text": [
      "  Обрезано и сохранено: processed_-220020068_456255394.mp4\n"
     ]
    },
    {
     "name": "stderr",
     "output_type": "stream",
     "text": [
      "Processing videos:  55%|█████████████████████████████████▎                           | 41/75 [2:02:55<48:35, 85.74s/it]"
     ]
    },
    {
     "name": "stdout",
     "output_type": "stream",
     "text": [
      "  Обрезано и сохранено: processed_-220020068_456255395.mp4\n"
     ]
    },
    {
     "name": "stderr",
     "output_type": "stream",
     "text": [
      "Processing videos:  56%|██████████████████████████████████▏                          | 42/75 [2:04:22<47:22, 86.12s/it]"
     ]
    },
    {
     "name": "stdout",
     "output_type": "stream",
     "text": [
      "  Обрезано и сохранено: processed_-220020068_456255396.mp4\n"
     ]
    },
    {
     "name": "stderr",
     "output_type": "stream",
     "text": [
      "Processing videos:  57%|██████████████████████████████████▉                          | 43/75 [2:05:49<46:07, 86.48s/it]"
     ]
    },
    {
     "name": "stdout",
     "output_type": "stream",
     "text": [
      "  Обрезано и сохранено: processed_-220020068_456255399.mp4\n"
     ]
    },
    {
     "name": "stderr",
     "output_type": "stream",
     "text": [
      "Processing videos:  59%|███████████████████████████████████▊                         | 44/75 [2:07:15<44:39, 86.44s/it]"
     ]
    },
    {
     "name": "stdout",
     "output_type": "stream",
     "text": [
      "  Обрезано и сохранено: processed_-220020068_456255400.mp4\n"
     ]
    },
    {
     "name": "stderr",
     "output_type": "stream",
     "text": [
      "Processing videos:  60%|████████████████████████████████████▌                        | 45/75 [2:08:45<43:43, 87.45s/it]"
     ]
    },
    {
     "name": "stdout",
     "output_type": "stream",
     "text": [
      "  Обрезано и сохранено: processed_-220020068_456255401.mp4\n"
     ]
    },
    {
     "name": "stderr",
     "output_type": "stream",
     "text": [
      "Processing videos:  61%|█████████████████████████████████████▍                       | 46/75 [2:10:15<42:37, 88.19s/it]"
     ]
    },
    {
     "name": "stdout",
     "output_type": "stream",
     "text": [
      "  Обрезано и сохранено: processed_-220020068_456255402.mp4\n"
     ]
    },
    {
     "name": "stderr",
     "output_type": "stream",
     "text": [
      "Processing videos:  63%|██████████████████████████████████████▏                      | 47/75 [2:11:43<41:12, 88.30s/it]"
     ]
    },
    {
     "name": "stdout",
     "output_type": "stream",
     "text": [
      "  Обрезано и сохранено: processed_-220020068_456255403.mp4\n"
     ]
    },
    {
     "name": "stderr",
     "output_type": "stream",
     "text": [
      "Processing videos:  64%|███████████████████████████████████████                      | 48/75 [2:13:11<39:36, 88.00s/it]"
     ]
    },
    {
     "name": "stdout",
     "output_type": "stream",
     "text": [
      "  Обрезано и сохранено: processed_-220020068_456255405.mp4\n"
     ]
    },
    {
     "name": "stderr",
     "output_type": "stream",
     "text": [
      "Processing videos:  65%|███████████████████████████████████████▊                     | 49/75 [2:14:39<38:11, 88.12s/it]"
     ]
    },
    {
     "name": "stdout",
     "output_type": "stream",
     "text": [
      "  Обрезано и сохранено: processed_-220020068_456255407.mp4\n"
     ]
    },
    {
     "name": "stderr",
     "output_type": "stream",
     "text": [
      "Processing videos:  67%|████████████████████████████████████████▋                    | 50/75 [2:16:04<36:16, 87.08s/it]"
     ]
    },
    {
     "name": "stdout",
     "output_type": "stream",
     "text": [
      "  Обрезано и сохранено: processed_-220020068_456255409.mp4\n"
     ]
    },
    {
     "name": "stderr",
     "output_type": "stream",
     "text": [
      "Processing videos:  68%|█████████████████████████████████████████▍                   | 51/75 [2:17:27<34:24, 86.03s/it]"
     ]
    },
    {
     "name": "stdout",
     "output_type": "stream",
     "text": [
      "  Обрезано и сохранено: processed_-220020068_456255410.mp4\n"
     ]
    },
    {
     "name": "stderr",
     "output_type": "stream",
     "text": [
      "Processing videos:  69%|██████████████████████████████████████████▎                  | 52/75 [2:18:52<32:47, 85.56s/it]"
     ]
    },
    {
     "name": "stdout",
     "output_type": "stream",
     "text": [
      "  Обрезано и сохранено: processed_-220020068_456255411.mp4\n"
     ]
    },
    {
     "name": "stderr",
     "output_type": "stream",
     "text": [
      "Processing videos:  71%|███████████████████████████████████████████                  | 53/75 [2:20:18<31:26, 85.73s/it]"
     ]
    },
    {
     "name": "stdout",
     "output_type": "stream",
     "text": [
      "  Обрезано и сохранено: processed_-220020068_456255412.mp4\n"
     ]
    },
    {
     "name": "stderr",
     "output_type": "stream",
     "text": [
      "Processing videos:  72%|███████████████████████████████████████████▉                 | 54/75 [2:21:42<29:47, 85.10s/it]"
     ]
    },
    {
     "name": "stdout",
     "output_type": "stream",
     "text": [
      "  Обрезано и сохранено: processed_-220020068_456255414.mp4\n"
     ]
    },
    {
     "name": "stderr",
     "output_type": "stream",
     "text": [
      "Processing videos:  73%|████████████████████████████████████████████▋                | 55/75 [2:23:07<28:22, 85.12s/it]"
     ]
    },
    {
     "name": "stdout",
     "output_type": "stream",
     "text": [
      "  Обрезано и сохранено: processed_-220020068_456255766.mp4\n"
     ]
    },
    {
     "name": "stderr",
     "output_type": "stream",
     "text": [
      "Processing videos:  75%|█████████████████████████████████████████████▌               | 56/75 [2:24:32<26:58, 85.21s/it]"
     ]
    },
    {
     "name": "stdout",
     "output_type": "stream",
     "text": [
      "  Обрезано и сохранено: processed_-220020068_456255767.mp4\n"
     ]
    },
    {
     "name": "stderr",
     "output_type": "stream",
     "text": [
      "Processing videos:  76%|██████████████████████████████████████████████▎              | 57/75 [2:25:54<25:16, 84.27s/it]"
     ]
    },
    {
     "name": "stdout",
     "output_type": "stream",
     "text": [
      "  Обрезано и сохранено: processed_-220020068_456255773.mp4\n"
     ]
    },
    {
     "name": "stderr",
     "output_type": "stream",
     "text": [
      "Processing videos:  77%|███████████████████████████████████████████████▏             | 58/75 [2:27:19<23:54, 84.41s/it]"
     ]
    },
    {
     "name": "stdout",
     "output_type": "stream",
     "text": [
      "  Обрезано и сохранено: processed_-220020068_456255779.mp4\n"
     ]
    },
    {
     "name": "stderr",
     "output_type": "stream",
     "text": [
      "Processing videos:  79%|███████████████████████████████████████████████▉             | 59/75 [2:28:42<22:22, 83.88s/it]"
     ]
    },
    {
     "name": "stdout",
     "output_type": "stream",
     "text": [
      "  Обрезано и сохранено: processed_-220020068_456255780.mp4\n"
     ]
    },
    {
     "name": "stderr",
     "output_type": "stream",
     "text": [
      "Processing videos:  80%|████████████████████████████████████████████████▊            | 60/75 [2:30:09<21:12, 84.85s/it]"
     ]
    },
    {
     "name": "stdout",
     "output_type": "stream",
     "text": [
      "  Обрезано и сохранено: processed_-220020068_456256003.mp4\n"
     ]
    },
    {
     "name": "stderr",
     "output_type": "stream",
     "text": [
      "Processing videos:  81%|█████████████████████████████████████████████████▌           | 61/75 [2:31:33<19:44, 84.61s/it]"
     ]
    },
    {
     "name": "stdout",
     "output_type": "stream",
     "text": [
      "  Обрезано и сохранено: processed_-220020068_456256005.mp4\n"
     ]
    },
    {
     "name": "stderr",
     "output_type": "stream",
     "text": [
      "Processing videos:  83%|██████████████████████████████████████████████████▍          | 62/75 [2:33:00<18:30, 85.44s/it]"
     ]
    },
    {
     "name": "stdout",
     "output_type": "stream",
     "text": [
      "  Обрезано и сохранено: processed_-220020068_456256012.mp4\n"
     ]
    },
    {
     "name": "stderr",
     "output_type": "stream",
     "text": [
      "Processing videos:  84%|███████████████████████████████████████████████████▏         | 63/75 [2:34:28<17:15, 86.28s/it]"
     ]
    },
    {
     "name": "stdout",
     "output_type": "stream",
     "text": [
      "  Обрезано и сохранено: processed_-220020068_456256013.mp4\n"
     ]
    },
    {
     "name": "stderr",
     "output_type": "stream",
     "text": [
      "Processing videos:  85%|████████████████████████████████████████████████████         | 64/75 [2:35:54<15:48, 86.21s/it]"
     ]
    },
    {
     "name": "stdout",
     "output_type": "stream",
     "text": [
      "  Обрезано и сохранено: processed_-220020068_456256016.mp4\n"
     ]
    },
    {
     "name": "stderr",
     "output_type": "stream",
     "text": [
      "Processing videos:  87%|████████████████████████████████████████████████████▊        | 65/75 [2:37:20<14:20, 86.01s/it]"
     ]
    },
    {
     "name": "stdout",
     "output_type": "stream",
     "text": [
      "  Обрезано и сохранено: processed_-220020068_456256019.mp4\n"
     ]
    },
    {
     "name": "stderr",
     "output_type": "stream",
     "text": [
      "Processing videos:  88%|█████████████████████████████████████████████████████▋       | 66/75 [2:38:48<13:00, 86.68s/it]"
     ]
    },
    {
     "name": "stdout",
     "output_type": "stream",
     "text": [
      "  Обрезано и сохранено: processed_-220020068_456256430.mp4\n"
     ]
    },
    {
     "name": "stderr",
     "output_type": "stream",
     "text": [
      "Processing videos:  89%|██████████████████████████████████████████████████████▍      | 67/75 [2:40:18<11:40, 87.54s/it]"
     ]
    },
    {
     "name": "stdout",
     "output_type": "stream",
     "text": [
      "  Обрезано и сохранено: processed_-220020068_456256446.mp4\n"
     ]
    },
    {
     "name": "stderr",
     "output_type": "stream",
     "text": [
      "Processing videos:  91%|███████████████████████████████████████████████████████▎     | 68/75 [2:41:45<10:12, 87.56s/it]"
     ]
    },
    {
     "name": "stdout",
     "output_type": "stream",
     "text": [
      "  Обрезано и сохранено: processed_-220020068_456256475.mp4\n"
     ]
    },
    {
     "name": "stderr",
     "output_type": "stream",
     "text": [
      "Processing videos:  92%|████████████████████████████████████████████████████████     | 69/75 [2:43:16<08:50, 88.41s/it]"
     ]
    },
    {
     "name": "stdout",
     "output_type": "stream",
     "text": [
      "  Обрезано и сохранено: processed_-220020068_456256571.mp4\n"
     ]
    },
    {
     "name": "stderr",
     "output_type": "stream",
     "text": [
      "Processing videos:  93%|████████████████████████████████████████████████████████▉    | 70/75 [2:44:42<07:18, 87.71s/it]"
     ]
    },
    {
     "name": "stdout",
     "output_type": "stream",
     "text": [
      "  Обрезано и сохранено: processed_-220020068_456256868.mp4\n"
     ]
    },
    {
     "name": "stderr",
     "output_type": "stream",
     "text": [
      "Processing videos:  95%|█████████████████████████████████████████████████████████▋   | 71/75 [2:46:16<05:58, 89.50s/it]"
     ]
    },
    {
     "name": "stdout",
     "output_type": "stream",
     "text": [
      "  Обрезано и сохранено: processed_-220020068_456256893.mp4\n"
     ]
    },
    {
     "name": "stderr",
     "output_type": "stream",
     "text": [
      "Processing videos:  96%|██████████████████████████████████████████████████████████▌  | 72/75 [2:47:37<04:21, 87.17s/it]"
     ]
    },
    {
     "name": "stdout",
     "output_type": "stream",
     "text": [
      "  Обрезано и сохранено: processed_-220020068_456257136.mp4\n"
     ]
    },
    {
     "name": "stderr",
     "output_type": "stream",
     "text": [
      "Processing videos:  97%|███████████████████████████████████████████████████████████▎ | 73/75 [2:48:56<02:49, 84.73s/it]"
     ]
    },
    {
     "name": "stdout",
     "output_type": "stream",
     "text": [
      "  Обрезано и сохранено: processed_-220020068_456257137.mp4\n"
     ]
    },
    {
     "name": "stderr",
     "output_type": "stream",
     "text": [
      "Processing videos:  99%|████████████████████████████████████████████████████████████▏| 74/75 [2:50:19<01:23, 83.96s/it]"
     ]
    },
    {
     "name": "stdout",
     "output_type": "stream",
     "text": [
      "  Обрезано и сохранено: processed_-220020068_456257139.mp4\n"
     ]
    },
    {
     "name": "stderr",
     "output_type": "stream",
     "text": [
      "Processing videos: 100%|████████████████████████████████████████████████████████████| 75/75 [2:51:43<00:00, 137.38s/it]"
     ]
    },
    {
     "name": "stdout",
     "output_type": "stream",
     "text": [
      "  Обрезано и сохранено: processed_-220020068_456257141.mp4\n",
      "Attempting to remove temporary directory...\n"
     ]
    },
    {
     "name": "stderr",
     "output_type": "stream",
     "text": [
      "\n"
     ]
    },
    {
     "name": "stdout",
     "output_type": "stream",
     "text": [
      "Temporary folder D:\\temp_extracted_videos and its contents have been removed.\n",
      "\n",
      "--- Processing Report ---\n",
      "Total videos trimmed: 68\n",
      "Total videos copied (shorter than target): 0\n",
      "Total errors during video processing: 7\n",
      "\n",
      "All processed videos and the 'labels.json' file are saved in: D:\\trimmed_videos_with_labels\n"
     ]
    }
   ],
   "source": [
    "def process_videos_and_labels_in_zip(zip_file_path, output_folder, target_duration_minutes=10, labels_filename=\"labels.json\"):\n",
    "    \"\"\"\n",
    "    Unpacks videos and a JSON labels file from a ZIP, trims the videos,\n",
    "    and saves them to a new folder. Handles videos in nested folders.\n",
    "    \"\"\"\n",
    "    if not os.path.exists(output_folder):\n",
    "        os.makedirs(output_folder)\n",
    "        print(f\"Created output folder: {output_folder}\")\n",
    "\n",
    "    temp_extract_folder = os.path.join(os.path.dirname(output_folder), \"temp_extracted_videos\")\n",
    "    \n",
    "    if os.path.exists(temp_extract_folder):\n",
    "        print(f\"Temporary folder exists: {temp_extract_folder}. Cleaning up...\")\n",
    "        try:\n",
    "            shutil.rmtree(temp_extract_folder, ignore_errors=False, onerror=handle_remove_readonly)\n",
    "        except Exception as e:\n",
    "            print(f\"Error cleaning up old temp folder: {e}. Please close any programs that might be using it or restart the script.\")\n",
    "            return\n",
    "    os.makedirs(temp_extract_folder)\n",
    "    print(f\"Created temporary extraction folder: {temp_extract_folder}\")\n",
    "\n",
    "    print(f\"Unpacking {zip_file_path}...\")\n",
    "    try:\n",
    "        with zipfile.ZipFile(zip_file_path, 'r') as zip_ref:\n",
    "            zip_ref.extractall(temp_extract_folder)\n",
    "        print(\"Unpacking complete.\")\n",
    "    except Exception as e:\n",
    "        print(f\"Critical error during ZIP extraction: {e}\")\n",
    "        return\n",
    "\n",
    "    print(\"Starting video trimming and label processing...\")\n",
    "\n",
    "    processed_video_count = 0\n",
    "    skipped_video_count = 0\n",
    "    error_video_count = 0\n",
    "    \n",
    "    video_extensions = ('.mp4', '.avi', '.mkv', '.mov', '.webm', '.flv')\n",
    "    files_to_process = []\n",
    "    labels_file_path_in_temp = None\n",
    "\n",
    "    for root, _, files in os.walk(temp_extract_folder):\n",
    "        for filename in files:\n",
    "            if filename.lower().endswith(video_extensions):\n",
    "                files_to_process.append(os.path.join(root, filename))\n",
    "            elif filename == labels_filename:\n",
    "                labels_file_path_in_temp = os.path.join(root, filename)\n",
    "\n",
    "    if labels_file_path_in_temp:\n",
    "        try:\n",
    "            shutil.copy2(labels_file_path_in_temp, os.path.join(output_folder, labels_filename))\n",
    "            print(f\"Labels file '{labels_filename}' copied to {output_folder}\")\n",
    "        except Exception as e:\n",
    "            print(f\"Error copying labels file '{labels_filename}': {e}\")\n",
    "    else:\n",
    "        print(f\"Warning: Labels file '{labels_filename}' not found in the ZIP archive.\")\n",
    "\n",
    "    for original_filepath in tqdm(files_to_process[5:], desc=\"Processing videos\"):\n",
    "        filename = os.path.basename(original_filepath)\n",
    "        \n",
    "        if filename.startswith(\"-\"):\n",
    "            safe_filename = \"processed_\" + filename\n",
    "        else:\n",
    "            safe_filename = filename\n",
    "        \n",
    "        output_filepath = os.path.join(output_folder, safe_filename)\n",
    "        \n",
    "        clip = None\n",
    "        \n",
    "        try:\n",
    "            clip = VideoFileClip(original_filepath)\n",
    "            target_duration_seconds = target_duration_minutes * 60\n",
    "\n",
    "            write_params = {\n",
    "                'codec': 'libx264',\n",
    "                'audio_codec': 'aac',\n",
    "                'threads': 4, \n",
    "                'preset': 'ultrafast',\n",
    "                'logger': None\n",
    "            }\n",
    "\n",
    "            if clip.duration > target_duration_seconds:\n",
    "                with clip.subclip(0, target_duration_seconds) as cut_clip:\n",
    "                    cut_clip.write_videofile(output_filepath, **write_params)\n",
    "                print(f\"  Обрезано и сохранено: {safe_filename}\")\n",
    "                processed_video_count += 1\n",
    "            else:\n",
    "                clip.write_videofile(output_filepath, **write_params)\n",
    "                print(f\"  Видео {safe_filename} короче цели, скопировано.\")\n",
    "                skipped_video_count += 1\n",
    "            \n",
    "        except Exception as e:\n",
    "            print(f\"\\n!!! Ошибка при обработке видео {filename}: {e}\\n\")\n",
    "            error_video_count += 1\n",
    "            if os.path.exists(output_filepath):\n",
    "                try:\n",
    "                    os.remove(output_filepath)\n",
    "                    print(f\"  Удален неполный выходной файл: {output_filepath}\")\n",
    "                except Exception as remove_e:\n",
    "                    print(f\"  Ошибка при удалении неполного файла {output_filepath}: {remove_e}\")\n",
    "        finally:\n",
    "            if clip:\n",
    "                try:\n",
    "                    clip.close() \n",
    "                    if hasattr(clip, 'tempfiles'):\n",
    "                        for temp_file in clip.tempfiles:\n",
    "                            if os.path.exists(temp_file):\n",
    "                                try:\n",
    "                                    os.remove(temp_file)\n",
    "                                except Exception:\n",
    "                                    pass\n",
    "                except Exception as close_e:\n",
    "                    print(f\"  Ошибка при закрытии clip ресурсов для {filename}: {close_e}\")\n",
    "            gc.collect()\n",
    "\n",
    "    print(\"Attempting to remove temporary directory...\")\n",
    "    time.sleep(2)  \n",
    "    try:\n",
    "        shutil.rmtree(temp_extract_folder, ignore_errors=False, onerror=handle_remove_readonly)\n",
    "        print(f\"Temporary folder {temp_extract_folder} and its contents have been removed.\")\n",
    "    except Exception as e:\n",
    "        print(f\"ERROR: Failed to remove temporary folder {temp_extract_folder}: {e}\")\n",
    "        print(\"Please consider deleting it manually.\")\n",
    "\n",
    "    print(\"\\n--- Processing Report ---\")\n",
    "    print(f\"Total videos trimmed: {processed_video_count}\")\n",
    "    print(f\"Total videos copied (shorter than target): {skipped_video_count}\")\n",
    "    print(f\"Total errors during video processing: {error_video_count}\")\n",
    "\n",
    "def handle_remove_readonly(func, path, exc_info):\n",
    "    \n",
    "    if func == os.remove and platform.system() == \"Windows\":\n",
    "        import stat\n",
    "        os.chmod(path, stat.S_IWRITE)\n",
    "        func(path)\n",
    "    else:\n",
    "        raise \n",
    "\n",
    "if __name__ == \"__main__\":\n",
    "    zip_file = r\"C:\\Users\\Admin\\Downloads\\data_train_short.zip\"\n",
    "    output_directory = r\"D:\\trimmed_videos_with_labels\"\n",
    "    labels_file_name_global = \"labels.json\"\n",
    "\n",
    "    process_videos_and_labels_in_zip(\n",
    "        zip_file, \n",
    "        output_directory, \n",
    "        target_duration_minutes=10, \n",
    "        labels_filename=labels_file_name_global\n",
    "    )\n",
    "    \n",
    "    print(f\"\\nAll processed videos and the '{labels_file_name_global}' file are saved in: {output_directory}\")\n"
   ]
  },
  {
   "cell_type": "code",
   "execution_count": null,
   "id": "9a7cb9a4",
   "metadata": {},
   "outputs": [],
   "source": []
  }
 ],
 "metadata": {
  "kernelspec": {
   "display_name": "Python 3 (ipykernel)",
   "language": "python",
   "name": "python3"
  },
  "language_info": {
   "codemirror_mode": {
    "name": "ipython",
    "version": 3
   },
   "file_extension": ".py",
   "mimetype": "text/x-python",
   "name": "python",
   "nbconvert_exporter": "python",
   "pygments_lexer": "ipython3",
   "version": "3.9.12"
  }
 },
 "nbformat": 4,
 "nbformat_minor": 5
}
